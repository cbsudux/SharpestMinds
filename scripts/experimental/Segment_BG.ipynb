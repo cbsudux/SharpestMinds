{
 "cells": [
  {
   "cell_type": "code",
   "execution_count": null,
   "metadata": {},
   "outputs": [],
   "source": [
    "# Experimental --> Need to rigourously try this out"
   ]
  },
  {
   "cell_type": "code",
   "execution_count": 1,
   "metadata": {},
   "outputs": [
    {
     "name": "stderr",
     "output_type": "stream",
     "text": [
      "/usr/local/lib/python3.6/dist-packages/h5py/__init__.py:36: FutureWarning: Conversion of the second argument of issubdtype from `float` to `np.floating` is deprecated. In future, it will be treated as `np.float64 == np.dtype(float).type`.\n",
      "  from ._conv import register_converters as _register_converters\n",
      "Using TensorFlow backend.\n"
     ]
    }
   ],
   "source": [
    "%matplotlib inline\n",
    "from keras.models import Sequential,Model\n",
    "from keras.layers.convolutional import Conv2D, MaxPooling2D\n",
    "from keras.layers.core import Activation, Flatten, Dense, Dropout\n",
    "from keras.callbacks import EarlyStopping, ModelCheckpoint, ReduceLROnPlateau\n",
    "from keras.preprocessing.image import ImageDataGenerator, array_to_img, img_to_array, load_img\n",
    "from keras.optimizers import Adam\n",
    "from sklearn.model_selection import train_test_split\n",
    "import numpy as np\n",
    "import random\n",
    "import os\n",
    "import sys\n",
    "import cv2\n",
    "from keras.utils import to_categorical\n",
    "import matplotlib\n",
    "from keras.applications import *\n",
    "from sklearn.model_selection import StratifiedShuffleSplit\n",
    "from keras import optimizers"
   ]
  },
  {
   "cell_type": "code",
   "execution_count": 2,
   "metadata": {},
   "outputs": [],
   "source": [
    "def classes_to_int(label):\n",
    "    # label = classes.index(dir)\n",
    "    label = label.strip()\n",
    "    if label == \"Black-grass\":  return 0\n",
    "    if label == \"Charlock\":  return 1\n",
    "    if label == \"Cleavers\":  return 2\n",
    "    if label == \"Common Chickweed\":  return 3\n",
    "    if label == \"Common wheat\":  return 4\n",
    "    if label == \"Fat Hen\":  return 5\n",
    "    if label == \"Loose Silky-bent\": return 6\n",
    "    if label == \"Maize\":  return 7\n",
    "    if label == \"Scentless Mayweed\": return 8\n",
    "    if label == \"Shepherds Purse\": return 9\n",
    "    if label == \"Small-flowered Cranesbill\": return 10\n",
    "    if label == \"Sugar beet\": return 11\n",
    "    print(\"Invalid Label\", label)\n",
    "    return 12\n",
    "\n",
    "NUM_CLASSES = 12\n",
    "# we need images of same size so we convert them into the size\n",
    "WIDTH = 256\n",
    "HEIGHT = 256\n",
    "DEPTH = 3\n",
    "dim = 256\n",
    "inputShape = (WIDTH, HEIGHT, DEPTH)\n",
    "\n",
    "batch_size = 32\n",
    "\n",
    "\n",
    "# Functions for plant segmentation\n",
    "def create_mask_for_plant(image):\n",
    "    image_hsv = cv2.cvtColor(image, cv2.COLOR_BGR2HSV)\n",
    "\n",
    "    sensitivity = 35\n",
    "    lower_hsv = np.array([60 - sensitivity, 100, 50])\n",
    "    upper_hsv = np.array([60 + sensitivity, 255, 255])\n",
    "\n",
    "    mask = cv2.inRange(image_hsv, lower_hsv, upper_hsv)\n",
    "    kernel = cv2.getStructuringElement(cv2.MORPH_ELLIPSE, (11,11))\n",
    "    mask = cv2.morphologyEx(mask, cv2.MORPH_CLOSE, kernel)\n",
    "    \n",
    "    return mask\n",
    "\n",
    "def segment_plant(image):\n",
    "    mask = create_mask_for_plant(image)\n",
    "    output = cv2.bitwise_and(image, image, mask = mask)\n",
    "    return output\n",
    "\n",
    "def sharpen_image(image):\n",
    "    image_blurred = cv2.GaussianBlur(image, (0, 0), 3)\n",
    "    image_sharp = cv2.addWeighted(image, 1.5, image_blurred, -0.5, 0)\n",
    "    return image_sharp"
   ]
  },
  {
   "cell_type": "code",
   "execution_count": 3,
   "metadata": {},
   "outputs": [],
   "source": [
    "trainDir = '/input/plant_seedlings_classification/train'"
   ]
  },
  {
   "cell_type": "code",
   "execution_count": 4,
   "metadata": {},
   "outputs": [],
   "source": [
    "def readTrainData(trainDir):\n",
    "    data = []\n",
    "    labels = []\n",
    "    # loop over the input images\n",
    "    dirs = os.listdir(trainDir) \n",
    "    for dir in dirs:\n",
    "        absDirPath = os.path.join(os.path.sep,trainDir, dir)\n",
    "        images = os.listdir(absDirPath)\n",
    "        for imageFileName in images:\n",
    "            # load the image, pre-process it, and store it in the data list\n",
    "            imageFullPath = os.path.join(trainDir, dir, imageFileName)\n",
    "            #print(imageFullPath)\n",
    "            #img = load_img(imageFullPath)\n",
    "            ### Following two lines have been changed\n",
    "            img = cv2.imread(imageFullPath, cv2.IMREAD_COLOR)\n",
    "            img = segment_plant(img)\n",
    "            ########################\n",
    "            \n",
    "            arr = img_to_array(img)  # Numpy array with shape (233,233,3)\n",
    "            arr = cv2.resize(arr, (HEIGHT,WIDTH)) #Numpy array with shape (HEIGHT, WIDTH,3)\n",
    "            #print(arr.shape) \n",
    "            data.append(arr)\n",
    "            label = classes_to_int(dir)\n",
    "            labels.append(label)\n",
    "    return data, labels"
   ]
  },
  {
   "cell_type": "code",
   "execution_count": 5,
   "metadata": {},
   "outputs": [],
   "source": [
    "random.seed(10)\n",
    "allLabels =  os.listdir(trainDir)  # list of subdirectories and files\n",
    "\n",
    "print(\"Loading images...\")\n",
    "X, Y = readTrainData(trainDir)\n",
    "\n",
    "# scale the raw pixel intensities to the range [0, 1]\n",
    "X = np.array(X, dtype=\"float\") / 255.0\n",
    "Y = np.array(Y)\n",
    "# convert the labels from integers to vectors\n",
    "Y =  to_categorical(Y, num_classes=12)\n",
    "\n",
    "x_train  =X\n",
    "y_train = Y"
   ]
  },
  {
   "cell_type": "code",
   "execution_count": 35,
   "metadata": {},
   "outputs": [
    {
     "data": {
      "image/png": "[encoded data removed]",
      "text/plain": [
       "<matplotlib.figure.Figure at 0x7f964a521d30>"
      ]
     },
     "metadata": {},
     "output_type": "display_data"
    }
   ],
   "source": [
    "import matplotlib.pyplot as plt \n",
    "imgplot = plt.imshow(X[3])"
   ]
  },
  {
   "cell_type": "code",
   "execution_count": 10,
   "metadata": {},
   "outputs": [
    {
     "name": "stdout",
     "output_type": "stream",
     "text": [
      "Using 3990 for training and 760 for validation\n"
     ]
    }
   ],
   "source": [
    "#x_train, x_valid, y_train, y_valid = train_test_split(x_train, y_train, test_size=0.01, random_state=42)\n",
    "sss = StratifiedShuffleSplit(n_splits=1, test_size=0.16, random_state=42) # Want a balanced split for all the classes\n",
    "for train_index, test_index in sss.split(x_train, y_train):\n",
    "    print(\"Using {} for training and {} for validation\".format(len(train_index), len(test_index)))\n",
    "    x_train, x_valid = x_train[train_index], x_train[test_index]\n",
    "    y_train, y_valid = y_train[train_index], y_train[test_index]"
   ]
  },
  {
   "cell_type": "code",
   "execution_count": 11,
   "metadata": {},
   "outputs": [],
   "source": [
    "datagen = ImageDataGenerator( horizontal_flip=True, \n",
    "                              vertical_flip=True,\n",
    "                            rescale = 1./255)\n",
    "                                      \n",
    "weights = os.path.join('', '/output/weights.h5')\n",
    "\n",
    "epochs = 100\n",
    "learning_rate = 0.001\n",
    "batch_size = 32\n",
    "\n",
    "callbacks = [ EarlyStopping(monitor='val_loss', patience=5, verbose=0), \n",
    "              ModelCheckpoint(weights, monitor='val_loss', save_best_only=True, verbose=0),\n",
    "              ReduceLROnPlateau(monitor='val_loss', factor=0.1, patience=2, verbose=0, mode='auto', epsilon=0.0001, cooldown=0, min_lr=0)]\n",
    "\n",
    "base_model = Xception(input_shape=(dim, dim, 3), include_top=False, weights='imagenet', pooling='avg') # Average pooling reduces output dimensions\n",
    "x = base_model.output\n",
    "x = Dense(256, activation='relu')(x)\n",
    "x = Dropout(0.5)(x)\n",
    "predictions = Dense(12, activation='softmax')(x)\n",
    "model = Model(inputs=base_model.input, outputs=predictions)\n",
    "\n",
    "for layer in base_model.layers:\n",
    "    layer.trainable = False\n",
    "\n",
    "model.compile(loss='categorical_crossentropy', optimizer=optimizers.Adam(lr=learning_rate), metrics=['accuracy'])"
   ]
  },
  {
   "cell_type": "code",
   "execution_count": null,
   "metadata": {},
   "outputs": [],
   "source": [
    "model.fit_generator(datagen.flow(x_train, y_train, batch_size=batch_size),\n",
    "                    steps_per_epoch=len(x_train)/batch_size, \n",
    "                    validation_data=datagen.flow(x_valid, y_valid, batch_size=batch_size), \n",
    "                    validation_steps=len(x_valid)/batch_size,\n",
    "                    callbacks=callbacks,\n",
    "                    epochs=21, \n",
    "                    verbose=1)"
   ]
  },
  {
   "cell_type": "code",
   "execution_count": 12,
   "metadata": {},
   "outputs": [],
   "source": [
    "# fine tune \n",
    "\n",
    "for layer in base_model.layers[:126]:\n",
    "    layer.trainable  = False\n",
    "for layer in base_model.layers[126:]:\n",
    "    layer.trainable = True\n",
    "\n",
    "weights = os.path.join('', '/output/finetune_weights.h5')\n",
    "\n",
    "\n",
    "callbacks = [ EarlyStopping(monitor='val_loss', patience=5, verbose=0), \n",
    "              ModelCheckpoint(weights, monitor='val_loss', save_best_only=True, verbose=0),\n",
    "              ReduceLROnPlateau(monitor='val_loss', factor=0.1, patience=2, verbose=0, mode='auto', epsilon=0.0001, cooldown=0, min_lr=0)]\n",
    "\n",
    "model.compile(loss='categorical_crossentropy', optimizer=optimizers.Adam(lr=learning_rate), metrics=['accuracy'])\n",
    "\n",
    "\n",
    "model.load_weights(weights)\n",
    "\n",
    "model.fit_generator(datagen.flow(x_train, y_train, batch_size=batch_size),\n",
    "                    steps_per_epoch=len(x_train)/batch_size, \n",
    "                    validation_data=datagen.flow(x_valid, y_valid, batch_size=batch_size), \n",
    "                    validation_steps=len(x_valid)/batch_size,\n",
    "                    callbacks=callbacks,\n",
    "                    epochs=21, \n",
    "                    verbose=1)"
   ]
  },
  {
   "cell_type": "code",
   "execution_count": 15,
   "metadata": {},
   "outputs": [],
   "source": [
    "def readTestData(testDir):\n",
    "    data = []\n",
    "    filenames = []\n",
    "    # loop over the input images\n",
    "    images = os.listdir(testDir)\n",
    "    for imageFileName in images:\n",
    "        # load the image, pre-process it, and store it in the data list\n",
    "        imageFullPath = os.path.join(testDir, imageFileName)\n",
    "        #print(imageFullPath)\n",
    "        #img = load_img(imageFullPath)\n",
    "        img = cv2.imread(imageFullPath, cv2.IMREAD_COLOR)\n",
    "        img = segment_plant(img)\n",
    "        arr = img_to_array(img)  # Numpy array with shape (...,..,3)\n",
    "        arr = cv2.resize(arr, (HEIGHT,WIDTH)) \n",
    "        data.append(arr)\n",
    "        filenames.append(imageFileName)\n",
    "    return data, filenames\n",
    "\n",
    "\n",
    "x_test, filenames = readTestData(\"/input/plant_seedlings_classification/test\")\n",
    "# scale the raw pixel intensities to the range [0, 1]\n",
    "x_test= np.array(x_test, dtype=\"float\") / 255.0\n",
    "\n",
    "label_map = {   \"Black-grass\"               :0,\n",
    "                \"Charlock\"                  :1,\n",
    "                \"Cleavers\"                  :2,\n",
    "                \"Common Chickweed\"          :3,\n",
    "                \"Common wheat\"              :4,\n",
    "                \"Fat Hen\"                   :5,\n",
    "                \"Loose Silky-bent\"          :6,\n",
    "                \"Maize\"                     :7,\n",
    "                \"Scentless Mayweed\"         :8,\n",
    "                \"Shepherds Purse\"           :9,\n",
    "                \"Small-flowered Cranesbill\" :10,\n",
    "                \"Sugar beet\"                :11}\n",
    "\n",
    "model.load_weights(weights)\n",
    "\n",
    "p_test = model.predict(x_train, verbose = 1)\n",
    "\n",
    "preds = []\n",
    "for i in range(len(p_test)):\n",
    "    pos = np.argmax(p_test[i])\n",
    "    preds.append(list(label_map.keys())[list(label_map.values()).index(pos)])\n"
   ]
  },
  {
   "cell_type": "code",
   "execution_count": null,
   "metadata": {},
   "outputs": [],
   "source": [
    "df_test = pd.read_csv('/input/plant_seedlings_classification/sample_submission.csv')\n",
    "df_test['species'] = preds\n",
    "df_test.to_csv('/output/submission.csv', index=False)"
   ]
  }
 ],
 "metadata": {
  "kernelspec": {
   "display_name": "Python 3",
   "language": "python",
   "name": "python3"
  },
  "language_info": {
   "codemirror_mode": {
    "name": "ipython",
    "version": 3
   },
   "file_extension": ".py",
   "mimetype": "text/x-python",
   "name": "python",
   "nbconvert_exporter": "python",
   "pygments_lexer": "ipython3",
   "version": "3.5.2"
  }
 },
 "nbformat": 4,
 "nbformat_minor": 2
}
